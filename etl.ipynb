{
 "cells": [
  {
   "cell_type": "markdown",
   "metadata": {},
   "source": [
    "# ETL Processes\n",
    "Use this notebook to develop the ETL process for each of your tables before completing the `etl.py` file to load the whole datasets."
   ]
  },
  {
   "cell_type": "code",
   "execution_count": 2,
   "metadata": {},
   "outputs": [],
   "source": [
    "import os, json\n",
    "import glob\n",
    "import psycopg2\n",
    "import pandas as pd\n",
    "from sql_queries import *\n",
    "from tabulate import tabulate"
   ]
  },
  {
   "cell_type": "code",
   "execution_count": 3,
   "metadata": {},
   "outputs": [],
   "source": [
    "conn = psycopg2.connect(\"host=127.0.0.1 dbname=sparkifydb user=student password=student\")\n",
    "cur = conn.cursor()"
   ]
  },
  {
   "cell_type": "code",
   "execution_count": 4,
   "metadata": {},
   "outputs": [],
   "source": [
    "def get_files(filepath):\n",
    "    all_files = []\n",
    "    for root, dirs, files in os.walk(filepath):\n",
    "        for f in files:\n",
    "            fname = os.path.join(root, f)\n",
    "            if fname.endswith(\".json\"):\n",
    "                all_files.append(os.path.abspath(fname))\n",
    "    return all_files\n",
    "    \n",
    "\n"
   ]
  },
  {
   "cell_type": "markdown",
   "metadata": {},
   "source": [
    "# Process `song_data`\n",
    "In this first part, you'll perform ETL on the first dataset, `song_data`, to create the `songs` and `artists` dimensional tables.\n",
    "\n",
    "Let's perform ETL on a single song file and load a single record into each table to start.\n",
    "- Use the `get_files` function provided above to get a list of all song JSON files in `data/song_data`\n",
    "- Select the first song in this list\n",
    "- Read the song file and view the data"
   ]
  },
  {
   "cell_type": "code",
   "execution_count": 5,
   "metadata": {},
   "outputs": [],
   "source": [
    "\n",
    "filepath = \"/home/nonso/Documents/data_engineering/project-template/data/song_data\""
   ]
  },
  {
   "cell_type": "code",
   "execution_count": 6,
   "metadata": {},
   "outputs": [
    {
     "name": "stdout",
     "output_type": "stream",
     "text": [
      "/home/nonso/Documents/data_engineering/project-template/data/song_data/A/A/C/TRAACFV128F935E50B.json\n"
     ]
    }
   ],
   "source": [
    "song_files = get_files(filepath)\n",
    "print(song_files[0])"
   ]
  },
  {
   "cell_type": "code",
   "execution_count": 7,
   "metadata": {},
   "outputs": [],
   "source": [
    "def get_first_data(files, *args):\n",
    "    list_of_values = pd.read_json(files[0], lines=True)[[item for item in args]].stack().values.tolist()\n",
    "    return list_of_values\n",
    "    \n"
   ]
  },
  {
   "cell_type": "code",
   "execution_count": 8,
   "metadata": {},
   "outputs": [],
   "source": [
    "def get_dataframe_of_first_data(files):\n",
    "    df = pd.read_json(files[0], lines=True)\n",
    "    return df\n",
    "    "
   ]
  },
  {
   "cell_type": "markdown",
   "metadata": {},
   "source": [
    "## #1: `songs` Table\n",
    "#### Extract Data for Songs Table\n",
    "- Select columns for song ID, title, artist ID, year, and duration\n",
    "- Use `df.values` to select just the values from the dataframe\n",
    "- Index to select the first (only) record in the dataframe\n",
    "- Convert the array to a list and set it to `song_data`"
   ]
  },
  {
   "cell_type": "code",
   "execution_count": 9,
   "metadata": {},
   "outputs": [
    {
     "data": {
      "text/plain": [
       "['SOBLGCN12AB0183212',\n",
       " 'James (Hold The Ladder Steady)',\n",
       " 'AR47JEX1187B995D81',\n",
       " 1985,\n",
       " 124.86485]"
      ]
     },
     "execution_count": 9,
     "metadata": {},
     "output_type": "execute_result"
    }
   ],
   "source": [
    "song_data = get_first_data(song_files, \"song_id\", \"title\", \"artist_id\", \"year\", \"duration\")\n",
    "song_data"
   ]
  },
  {
   "cell_type": "markdown",
   "metadata": {},
   "source": [
    "#### Insert Record into Song Table\n",
    "Implement the `song_table_insert` query in `sql_queries.py` and run the cell below to insert a record for this song into the `songs` table. Remember to run `create_tables.py` before running the cell below to ensure you've created/resetted the `songs` table in the sparkify database."
   ]
  },
  {
   "cell_type": "code",
   "execution_count": 10,
   "metadata": {},
   "outputs": [],
   "source": [
    "cur.execute(song_table_insert, song_data)\n",
    "conn.commit()"
   ]
  },
  {
   "cell_type": "markdown",
   "metadata": {},
   "source": [
    "Run `test.ipynb` to see if you've successfully added a record to this table."
   ]
  },
  {
   "cell_type": "markdown",
   "metadata": {},
   "source": [
    "## #2: `artists` Table\n",
    "#### Extract Data for Artists Table\n",
    "- Select columns for artist ID, name, location, latitude, and longitude\n",
    "- Use `df.values` to select just the values from the dataframe\n",
    "- Index to select the first (only) record in the dataframe\n",
    "- Convert the array to a list and set it to `artist_data`"
   ]
  },
  {
   "cell_type": "code",
   "execution_count": 11,
   "metadata": {},
   "outputs": [
    {
     "data": {
      "text/plain": [
       "['AR47JEX1187B995D81', 'SUE THOMPSON', 'Nevada, MO', 37.83721, -94.35868]"
      ]
     },
     "execution_count": 11,
     "metadata": {},
     "output_type": "execute_result"
    }
   ],
   "source": [
    "artist_data = get_first_data(song_files, \"artist_id\", \"artist_name\", \"artist_location\", \"artist_latitude\", \"artist_longitude\")\n",
    "artist_data"
   ]
  },
  {
   "cell_type": "markdown",
   "metadata": {},
   "source": [
    "#### Insert Record into Artist Table\n",
    "Implement the `artist_table_insert` query in `sql_queries.py` and run the cell below to insert a record for this song's artist into the `artists` table. Remember to run `create_tables.py` before running the cell below to ensure you've created/resetted the `artists` table in the sparkify database."
   ]
  },
  {
   "cell_type": "code",
   "execution_count": 12,
   "metadata": {},
   "outputs": [],
   "source": [
    "cur.execute(artist_table_insert, artist_data)\n",
    "conn.commit()"
   ]
  },
  {
   "cell_type": "code",
   "execution_count": 13,
   "metadata": {},
   "outputs": [],
   "source": [
    "filepath2 = \"/home/nonso/Documents/data_engineering/project-template/data/log_data\""
   ]
  },
  {
   "cell_type": "markdown",
   "metadata": {},
   "source": [
    "Run `test.ipynb` to see if you've successfully added a record to this table."
   ]
  },
  {
   "cell_type": "markdown",
   "metadata": {},
   "source": [
    "# Process `log_data`\n",
    "In this part, you'll perform ETL on the second dataset, `log_data`, to create the `time` and `users` dimensional tables, as well as the `songplays` fact table.\n",
    "\n",
    "Let's perform ETL on a single log file and load a single record into each table.\n",
    "- Use the `get_files` function provided above to get a list of all log JSON files in `data/log_data`\n",
    "- Select the first log file in this list\n",
    "- Read the log file and view the data"
   ]
  },
  {
   "cell_type": "code",
   "execution_count": 14,
   "metadata": {},
   "outputs": [],
   "source": [
    "filepath = \"/home/nonso/Documents/data_engineering/project-template/data/log_data\"\n"
   ]
  },
  {
   "cell_type": "code",
   "execution_count": 15,
   "metadata": {},
   "outputs": [],
   "source": [
    "log_files = get_files(filepath)"
   ]
  },
  {
   "cell_type": "code",
   "execution_count": 16,
   "metadata": {},
   "outputs": [
    {
     "data": {
      "text/html": [
       "<div>\n",
       "<style scoped>\n",
       "    .dataframe tbody tr th:only-of-type {\n",
       "        vertical-align: middle;\n",
       "    }\n",
       "\n",
       "    .dataframe tbody tr th {\n",
       "        vertical-align: top;\n",
       "    }\n",
       "\n",
       "    .dataframe thead th {\n",
       "        text-align: right;\n",
       "    }\n",
       "</style>\n",
       "<table border=\"1\" class=\"dataframe\">\n",
       "  <thead>\n",
       "    <tr style=\"text-align: right;\">\n",
       "      <th></th>\n",
       "      <th>artist</th>\n",
       "      <th>auth</th>\n",
       "      <th>firstName</th>\n",
       "      <th>gender</th>\n",
       "      <th>itemInSession</th>\n",
       "      <th>lastName</th>\n",
       "      <th>length</th>\n",
       "      <th>level</th>\n",
       "      <th>location</th>\n",
       "      <th>method</th>\n",
       "      <th>page</th>\n",
       "      <th>registration</th>\n",
       "      <th>sessionId</th>\n",
       "      <th>song</th>\n",
       "      <th>status</th>\n",
       "      <th>ts</th>\n",
       "      <th>userAgent</th>\n",
       "      <th>userId</th>\n",
       "    </tr>\n",
       "  </thead>\n",
       "  <tbody>\n",
       "    <tr>\n",
       "      <th>0</th>\n",
       "      <td>Kenny G</td>\n",
       "      <td>Logged In</td>\n",
       "      <td>Chloe</td>\n",
       "      <td>F</td>\n",
       "      <td>53</td>\n",
       "      <td>Cuevas</td>\n",
       "      <td>256.57424</td>\n",
       "      <td>paid</td>\n",
       "      <td>San Francisco-Oakland-Hayward, CA</td>\n",
       "      <td>PUT</td>\n",
       "      <td>NextSong</td>\n",
       "      <td>1.540941e+12</td>\n",
       "      <td>648</td>\n",
       "      <td>Everlasting</td>\n",
       "      <td>200</td>\n",
       "      <td>1542412944796</td>\n",
       "      <td>Mozilla/5.0 (Windows NT 5.1; rv:31.0) Gecko/20...</td>\n",
       "      <td>49</td>\n",
       "    </tr>\n",
       "    <tr>\n",
       "      <th>1</th>\n",
       "      <td>Randy Crawford</td>\n",
       "      <td>Logged In</td>\n",
       "      <td>Chloe</td>\n",
       "      <td>F</td>\n",
       "      <td>54</td>\n",
       "      <td>Cuevas</td>\n",
       "      <td>251.40200</td>\n",
       "      <td>paid</td>\n",
       "      <td>San Francisco-Oakland-Hayward, CA</td>\n",
       "      <td>PUT</td>\n",
       "      <td>NextSong</td>\n",
       "      <td>1.540941e+12</td>\n",
       "      <td>648</td>\n",
       "      <td>Rio De Janeiro Blue (Album Version)</td>\n",
       "      <td>200</td>\n",
       "      <td>1542413200796</td>\n",
       "      <td>Mozilla/5.0 (Windows NT 5.1; rv:31.0) Gecko/20...</td>\n",
       "      <td>49</td>\n",
       "    </tr>\n",
       "    <tr>\n",
       "      <th>2</th>\n",
       "      <td>Placebo</td>\n",
       "      <td>Logged In</td>\n",
       "      <td>Chloe</td>\n",
       "      <td>F</td>\n",
       "      <td>55</td>\n",
       "      <td>Cuevas</td>\n",
       "      <td>224.02567</td>\n",
       "      <td>paid</td>\n",
       "      <td>San Francisco-Oakland-Hayward, CA</td>\n",
       "      <td>PUT</td>\n",
       "      <td>NextSong</td>\n",
       "      <td>1.540941e+12</td>\n",
       "      <td>648</td>\n",
       "      <td>Breathe Underwater</td>\n",
       "      <td>200</td>\n",
       "      <td>1542413451796</td>\n",
       "      <td>Mozilla/5.0 (Windows NT 5.1; rv:31.0) Gecko/20...</td>\n",
       "      <td>49</td>\n",
       "    </tr>\n",
       "    <tr>\n",
       "      <th>3</th>\n",
       "      <td>Poison The Well</td>\n",
       "      <td>Logged In</td>\n",
       "      <td>Chloe</td>\n",
       "      <td>F</td>\n",
       "      <td>56</td>\n",
       "      <td>Cuevas</td>\n",
       "      <td>184.60689</td>\n",
       "      <td>paid</td>\n",
       "      <td>San Francisco-Oakland-Hayward, CA</td>\n",
       "      <td>PUT</td>\n",
       "      <td>NextSong</td>\n",
       "      <td>1.540941e+12</td>\n",
       "      <td>648</td>\n",
       "      <td>Riverside</td>\n",
       "      <td>200</td>\n",
       "      <td>1542413675796</td>\n",
       "      <td>Mozilla/5.0 (Windows NT 5.1; rv:31.0) Gecko/20...</td>\n",
       "      <td>49</td>\n",
       "    </tr>\n",
       "  </tbody>\n",
       "</table>\n",
       "</div>"
      ],
      "text/plain": [
       "            artist       auth firstName gender  itemInSession lastName  \\\n",
       "0          Kenny G  Logged In     Chloe      F             53   Cuevas   \n",
       "1   Randy Crawford  Logged In     Chloe      F             54   Cuevas   \n",
       "2          Placebo  Logged In     Chloe      F             55   Cuevas   \n",
       "3  Poison The Well  Logged In     Chloe      F             56   Cuevas   \n",
       "\n",
       "      length level                           location method      page  \\\n",
       "0  256.57424  paid  San Francisco-Oakland-Hayward, CA    PUT  NextSong   \n",
       "1  251.40200  paid  San Francisco-Oakland-Hayward, CA    PUT  NextSong   \n",
       "2  224.02567  paid  San Francisco-Oakland-Hayward, CA    PUT  NextSong   \n",
       "3  184.60689  paid  San Francisco-Oakland-Hayward, CA    PUT  NextSong   \n",
       "\n",
       "   registration  sessionId                                 song  status  \\\n",
       "0  1.540941e+12        648                          Everlasting     200   \n",
       "1  1.540941e+12        648  Rio De Janeiro Blue (Album Version)     200   \n",
       "2  1.540941e+12        648                   Breathe Underwater     200   \n",
       "3  1.540941e+12        648                            Riverside     200   \n",
       "\n",
       "              ts                                          userAgent userId  \n",
       "0  1542412944796  Mozilla/5.0 (Windows NT 5.1; rv:31.0) Gecko/20...     49  \n",
       "1  1542413200796  Mozilla/5.0 (Windows NT 5.1; rv:31.0) Gecko/20...     49  \n",
       "2  1542413451796  Mozilla/5.0 (Windows NT 5.1; rv:31.0) Gecko/20...     49  \n",
       "3  1542413675796  Mozilla/5.0 (Windows NT 5.1; rv:31.0) Gecko/20...     49  "
      ]
     },
     "execution_count": 16,
     "metadata": {},
     "output_type": "execute_result"
    }
   ],
   "source": [
    "df = get_dataframe_of_first_data(log_files)\n",
    "df.head(4)"
   ]
  },
  {
   "cell_type": "markdown",
   "metadata": {},
   "source": [
    "## #3: `time` Table\n",
    "#### Extract Data for Time Table\n",
    "- Filter records by `NextSong` action\n",
    "- Convert the `ts` timestamp column to datetime\n",
    "  - Hint: the current timestamp is in milliseconds\n",
    "- Extract the timestamp, hour, day, week of year, month, year, and weekday from the `ts` column and set `time_data` to a list containing these values in order\n",
    "  - Hint: use pandas' [`dt` attribute](https://pandas.pydata.org/pandas-docs/stable/reference/api/pandas.Series.dt.html) to access easily datetimelike properties.\n",
    "- Specify labels for these columns and set to `column_labels`\n",
    "- Create a dataframe, `time_df,` containing the time data for this file by combining `column_labels` and `time_data` into a dictionary and converting this into a dataframe"
   ]
  },
  {
   "cell_type": "code",
   "execution_count": 17,
   "metadata": {},
   "outputs": [
    {
     "data": {
      "text/html": [
       "<div>\n",
       "<style scoped>\n",
       "    .dataframe tbody tr th:only-of-type {\n",
       "        vertical-align: middle;\n",
       "    }\n",
       "\n",
       "    .dataframe tbody tr th {\n",
       "        vertical-align: top;\n",
       "    }\n",
       "\n",
       "    .dataframe thead th {\n",
       "        text-align: right;\n",
       "    }\n",
       "</style>\n",
       "<table border=\"1\" class=\"dataframe\">\n",
       "  <thead>\n",
       "    <tr style=\"text-align: right;\">\n",
       "      <th></th>\n",
       "      <th>artist</th>\n",
       "      <th>auth</th>\n",
       "      <th>firstName</th>\n",
       "      <th>gender</th>\n",
       "      <th>itemInSession</th>\n",
       "      <th>lastName</th>\n",
       "      <th>length</th>\n",
       "      <th>level</th>\n",
       "      <th>location</th>\n",
       "      <th>method</th>\n",
       "      <th>page</th>\n",
       "      <th>registration</th>\n",
       "      <th>sessionId</th>\n",
       "      <th>song</th>\n",
       "      <th>status</th>\n",
       "      <th>ts</th>\n",
       "      <th>userAgent</th>\n",
       "      <th>userId</th>\n",
       "    </tr>\n",
       "  </thead>\n",
       "  <tbody>\n",
       "    <tr>\n",
       "      <th>0</th>\n",
       "      <td>Kenny G</td>\n",
       "      <td>Logged In</td>\n",
       "      <td>Chloe</td>\n",
       "      <td>F</td>\n",
       "      <td>53</td>\n",
       "      <td>Cuevas</td>\n",
       "      <td>256.57424</td>\n",
       "      <td>paid</td>\n",
       "      <td>San Francisco-Oakland-Hayward, CA</td>\n",
       "      <td>PUT</td>\n",
       "      <td>NextSong</td>\n",
       "      <td>1.540941e+12</td>\n",
       "      <td>648</td>\n",
       "      <td>Everlasting</td>\n",
       "      <td>200</td>\n",
       "      <td>1542412944796</td>\n",
       "      <td>Mozilla/5.0 (Windows NT 5.1; rv:31.0) Gecko/20...</td>\n",
       "      <td>49</td>\n",
       "    </tr>\n",
       "    <tr>\n",
       "      <th>1</th>\n",
       "      <td>Randy Crawford</td>\n",
       "      <td>Logged In</td>\n",
       "      <td>Chloe</td>\n",
       "      <td>F</td>\n",
       "      <td>54</td>\n",
       "      <td>Cuevas</td>\n",
       "      <td>251.40200</td>\n",
       "      <td>paid</td>\n",
       "      <td>San Francisco-Oakland-Hayward, CA</td>\n",
       "      <td>PUT</td>\n",
       "      <td>NextSong</td>\n",
       "      <td>1.540941e+12</td>\n",
       "      <td>648</td>\n",
       "      <td>Rio De Janeiro Blue (Album Version)</td>\n",
       "      <td>200</td>\n",
       "      <td>1542413200796</td>\n",
       "      <td>Mozilla/5.0 (Windows NT 5.1; rv:31.0) Gecko/20...</td>\n",
       "      <td>49</td>\n",
       "    </tr>\n",
       "    <tr>\n",
       "      <th>2</th>\n",
       "      <td>Placebo</td>\n",
       "      <td>Logged In</td>\n",
       "      <td>Chloe</td>\n",
       "      <td>F</td>\n",
       "      <td>55</td>\n",
       "      <td>Cuevas</td>\n",
       "      <td>224.02567</td>\n",
       "      <td>paid</td>\n",
       "      <td>San Francisco-Oakland-Hayward, CA</td>\n",
       "      <td>PUT</td>\n",
       "      <td>NextSong</td>\n",
       "      <td>1.540941e+12</td>\n",
       "      <td>648</td>\n",
       "      <td>Breathe Underwater</td>\n",
       "      <td>200</td>\n",
       "      <td>1542413451796</td>\n",
       "      <td>Mozilla/5.0 (Windows NT 5.1; rv:31.0) Gecko/20...</td>\n",
       "      <td>49</td>\n",
       "    </tr>\n",
       "  </tbody>\n",
       "</table>\n",
       "</div>"
      ],
      "text/plain": [
       "           artist       auth firstName gender  itemInSession lastName  \\\n",
       "0         Kenny G  Logged In     Chloe      F             53   Cuevas   \n",
       "1  Randy Crawford  Logged In     Chloe      F             54   Cuevas   \n",
       "2         Placebo  Logged In     Chloe      F             55   Cuevas   \n",
       "\n",
       "      length level                           location method      page  \\\n",
       "0  256.57424  paid  San Francisco-Oakland-Hayward, CA    PUT  NextSong   \n",
       "1  251.40200  paid  San Francisco-Oakland-Hayward, CA    PUT  NextSong   \n",
       "2  224.02567  paid  San Francisco-Oakland-Hayward, CA    PUT  NextSong   \n",
       "\n",
       "   registration  sessionId                                 song  status  \\\n",
       "0  1.540941e+12        648                          Everlasting     200   \n",
       "1  1.540941e+12        648  Rio De Janeiro Blue (Album Version)     200   \n",
       "2  1.540941e+12        648                   Breathe Underwater     200   \n",
       "\n",
       "              ts                                          userAgent userId  \n",
       "0  1542412944796  Mozilla/5.0 (Windows NT 5.1; rv:31.0) Gecko/20...     49  \n",
       "1  1542413200796  Mozilla/5.0 (Windows NT 5.1; rv:31.0) Gecko/20...     49  \n",
       "2  1542413451796  Mozilla/5.0 (Windows NT 5.1; rv:31.0) Gecko/20...     49  "
      ]
     },
     "execution_count": 17,
     "metadata": {},
     "output_type": "execute_result"
    }
   ],
   "source": [
    "\n",
    "\n",
    "df = df.loc[df['page'] == \"NextSong\"]\n",
    "df.head(3)"
   ]
  },
  {
   "cell_type": "code",
   "execution_count": 18,
   "metadata": {},
   "outputs": [
    {
     "name": "stdout",
     "output_type": "stream",
     "text": [
      "               start_time  hour  day  week  month  year  weekday\n",
      "0 2018-11-17 00:02:24.796     0   17    46     11  2018        5\n",
      "1 2018-11-17 00:06:40.796     0   17    46     11  2018        5\n"
     ]
    }
   ],
   "source": [
    "\n",
    "t = df.reset_index()\n",
    "time_df = None\n",
    "for index, row in t.iterrows():\n",
    "    t = pd.to_datetime(df['ts'], unit='ms')\n",
    "    time_data_temp = pd.concat([t, t.dt.hour, t.dt.day, t.dt.isocalendar().week, t.dt.month, t.dt.year, t.dt.weekday], axis=1)\n",
    "    column_labels = ['start_time', 'hour', 'day', 'week', 'month', 'year', 'weekday']\n",
    "    time_data_temp.columns = column_labels\n",
    "    time_df = time_data_temp\n",
    "print(((time_df.head(2))))\n"
   ]
  },
  {
   "cell_type": "code",
   "execution_count": 19,
   "metadata": {},
   "outputs": [
    {
     "data": {
      "text/html": [
       "<div>\n",
       "<style scoped>\n",
       "    .dataframe tbody tr th:only-of-type {\n",
       "        vertical-align: middle;\n",
       "    }\n",
       "\n",
       "    .dataframe tbody tr th {\n",
       "        vertical-align: top;\n",
       "    }\n",
       "\n",
       "    .dataframe thead th {\n",
       "        text-align: right;\n",
       "    }\n",
       "</style>\n",
       "<table border=\"1\" class=\"dataframe\">\n",
       "  <thead>\n",
       "    <tr style=\"text-align: right;\">\n",
       "      <th></th>\n",
       "      <th>start_time</th>\n",
       "      <th>hour</th>\n",
       "      <th>day</th>\n",
       "      <th>week</th>\n",
       "      <th>month</th>\n",
       "      <th>year</th>\n",
       "      <th>weekday</th>\n",
       "    </tr>\n",
       "  </thead>\n",
       "  <tbody>\n",
       "    <tr>\n",
       "      <th>0</th>\n",
       "      <td>2018-11-17 00:02:24.796</td>\n",
       "      <td>0</td>\n",
       "      <td>17</td>\n",
       "      <td>46</td>\n",
       "      <td>11</td>\n",
       "      <td>2018</td>\n",
       "      <td>5</td>\n",
       "    </tr>\n",
       "    <tr>\n",
       "      <th>1</th>\n",
       "      <td>2018-11-17 00:06:40.796</td>\n",
       "      <td>0</td>\n",
       "      <td>17</td>\n",
       "      <td>46</td>\n",
       "      <td>11</td>\n",
       "      <td>2018</td>\n",
       "      <td>5</td>\n",
       "    </tr>\n",
       "    <tr>\n",
       "      <th>2</th>\n",
       "      <td>2018-11-17 00:10:51.796</td>\n",
       "      <td>0</td>\n",
       "      <td>17</td>\n",
       "      <td>46</td>\n",
       "      <td>11</td>\n",
       "      <td>2018</td>\n",
       "      <td>5</td>\n",
       "    </tr>\n",
       "    <tr>\n",
       "      <th>3</th>\n",
       "      <td>2018-11-17 00:14:35.796</td>\n",
       "      <td>0</td>\n",
       "      <td>17</td>\n",
       "      <td>46</td>\n",
       "      <td>11</td>\n",
       "      <td>2018</td>\n",
       "      <td>5</td>\n",
       "    </tr>\n",
       "    <tr>\n",
       "      <th>4</th>\n",
       "      <td>2018-11-17 00:17:39.796</td>\n",
       "      <td>0</td>\n",
       "      <td>17</td>\n",
       "      <td>46</td>\n",
       "      <td>11</td>\n",
       "      <td>2018</td>\n",
       "      <td>5</td>\n",
       "    </tr>\n",
       "  </tbody>\n",
       "</table>\n",
       "</div>"
      ],
      "text/plain": [
       "               start_time  hour  day  week  month  year  weekday\n",
       "0 2018-11-17 00:02:24.796     0   17    46     11  2018        5\n",
       "1 2018-11-17 00:06:40.796     0   17    46     11  2018        5\n",
       "2 2018-11-17 00:10:51.796     0   17    46     11  2018        5\n",
       "3 2018-11-17 00:14:35.796     0   17    46     11  2018        5\n",
       "4 2018-11-17 00:17:39.796     0   17    46     11  2018        5"
      ]
     },
     "execution_count": 19,
     "metadata": {},
     "output_type": "execute_result"
    }
   ],
   "source": [
    "\n",
    "time_df.head(5)"
   ]
  },
  {
   "cell_type": "markdown",
   "metadata": {},
   "source": [
    "#### Insert Records into Time Table\n",
    "Implement the `time_table_insert` query in `sql_queries.py` and run the cell below to insert records for the timestamps in this log file into the `time` table. Remember to run `create_tables.py` before running the cell below to ensure you've created/resetted the `time` table in the sparkify database."
   ]
  },
  {
   "cell_type": "code",
   "execution_count": 20,
   "metadata": {},
   "outputs": [
    {
     "name": "stdout",
     "output_type": "stream",
     "text": [
      "[Timestamp('2018-11-17 00:02:24.796000'), 0, 17, 46, 11, 2018, 5]\n",
      "[Timestamp('2018-11-17 00:06:40.796000'), 0, 17, 46, 11, 2018, 5]\n",
      "[Timestamp('2018-11-17 00:10:51.796000'), 0, 17, 46, 11, 2018, 5]\n",
      "[Timestamp('2018-11-17 00:14:35.796000'), 0, 17, 46, 11, 2018, 5]\n",
      "[Timestamp('2018-11-17 00:17:39.796000'), 0, 17, 46, 11, 2018, 5]\n",
      "[Timestamp('2018-11-17 00:20:55.796000'), 0, 17, 46, 11, 2018, 5]\n",
      "[Timestamp('2018-11-17 00:27:01.796000'), 0, 17, 46, 11, 2018, 5]\n",
      "[Timestamp('2018-11-17 00:28:07.796000'), 0, 17, 46, 11, 2018, 5]\n",
      "[Timestamp('2018-11-17 00:31:21.796000'), 0, 17, 46, 11, 2018, 5]\n",
      "[Timestamp('2018-11-17 00:37:14.796000'), 0, 17, 46, 11, 2018, 5]\n",
      "[Timestamp('2018-11-17 00:43:50.796000'), 0, 17, 46, 11, 2018, 5]\n",
      "[Timestamp('2018-11-17 00:54:52.796000'), 0, 17, 46, 11, 2018, 5]\n",
      "[Timestamp('2018-11-17 00:58:34.796000'), 0, 17, 46, 11, 2018, 5]\n",
      "[Timestamp('2018-11-17 01:05:31.796000'), 1, 17, 46, 11, 2018, 5]\n",
      "[Timestamp('2018-11-17 01:08:49.796000'), 1, 17, 46, 11, 2018, 5]\n",
      "[Timestamp('2018-11-17 01:12:35.796000'), 1, 17, 46, 11, 2018, 5]\n",
      "[Timestamp('2018-11-17 01:18:20.796000'), 1, 17, 46, 11, 2018, 5]\n",
      "[Timestamp('2018-11-17 01:23:53.796000'), 1, 17, 46, 11, 2018, 5]\n",
      "[Timestamp('2018-11-17 01:26:40.796000'), 1, 17, 46, 11, 2018, 5]\n",
      "[Timestamp('2018-11-17 01:29:37.796000'), 1, 17, 46, 11, 2018, 5]\n",
      "[Timestamp('2018-11-17 01:34:23.796000'), 1, 17, 46, 11, 2018, 5]\n",
      "[Timestamp('2018-11-17 01:38:18.796000'), 1, 17, 46, 11, 2018, 5]\n",
      "[Timestamp('2018-11-17 01:42:22.796000'), 1, 17, 46, 11, 2018, 5]\n",
      "[Timestamp('2018-11-17 02:20:52.796000'), 2, 17, 46, 11, 2018, 5]\n",
      "[Timestamp('2018-11-17 04:31:38.796000'), 4, 17, 46, 11, 2018, 5]\n",
      "[Timestamp('2018-11-17 04:38:41.796000'), 4, 17, 46, 11, 2018, 5]\n",
      "[Timestamp('2018-11-17 04:42:08.796000'), 4, 17, 46, 11, 2018, 5]\n",
      "[Timestamp('2018-11-17 04:47:15.796000'), 4, 17, 46, 11, 2018, 5]\n",
      "[Timestamp('2018-11-17 04:52:02.796000'), 4, 17, 46, 11, 2018, 5]\n",
      "[Timestamp('2018-11-17 04:53:03.796000'), 4, 17, 46, 11, 2018, 5]\n",
      "[Timestamp('2018-11-17 04:58:07.796000'), 4, 17, 46, 11, 2018, 5]\n",
      "[Timestamp('2018-11-17 05:01:41.796000'), 5, 17, 46, 11, 2018, 5]\n",
      "[Timestamp('2018-11-17 05:02:37.796000'), 5, 17, 46, 11, 2018, 5]\n",
      "[Timestamp('2018-11-17 05:05:16.796000'), 5, 17, 46, 11, 2018, 5]\n",
      "[Timestamp('2018-11-17 06:31:48.796000'), 6, 17, 46, 11, 2018, 5]\n",
      "[Timestamp('2018-11-17 06:35:00.796000'), 6, 17, 46, 11, 2018, 5]\n",
      "[Timestamp('2018-11-17 10:21:22.796000'), 10, 17, 46, 11, 2018, 5]\n",
      "[Timestamp('2018-11-17 10:24:25.796000'), 10, 17, 46, 11, 2018, 5]\n",
      "[Timestamp('2018-11-17 10:28:10.796000'), 10, 17, 46, 11, 2018, 5]\n",
      "[Timestamp('2018-11-17 12:52:31.796000'), 12, 17, 46, 11, 2018, 5]\n",
      "[Timestamp('2018-11-17 13:38:10.796000'), 13, 17, 46, 11, 2018, 5]\n",
      "[Timestamp('2018-11-17 13:42:17.796000'), 13, 17, 46, 11, 2018, 5]\n",
      "[Timestamp('2018-11-17 13:45:43.796000'), 13, 17, 46, 11, 2018, 5]\n",
      "[Timestamp('2018-11-17 13:53:14.796000'), 13, 17, 46, 11, 2018, 5]\n",
      "[Timestamp('2018-11-17 13:58:14.796000'), 13, 17, 46, 11, 2018, 5]\n",
      "[Timestamp('2018-11-17 14:09:54.796000'), 14, 17, 46, 11, 2018, 5]\n",
      "[Timestamp('2018-11-17 14:13:36.796000'), 14, 17, 46, 11, 2018, 5]\n",
      "[Timestamp('2018-11-17 14:17:50.796000'), 14, 17, 46, 11, 2018, 5]\n",
      "[Timestamp('2018-11-17 14:21:59.796000'), 14, 17, 46, 11, 2018, 5]\n",
      "[Timestamp('2018-11-17 14:27:00.796000'), 14, 17, 46, 11, 2018, 5]\n",
      "[Timestamp('2018-11-17 14:30:45.796000'), 14, 17, 46, 11, 2018, 5]\n",
      "[Timestamp('2018-11-17 14:33:23.796000'), 14, 17, 46, 11, 2018, 5]\n",
      "[Timestamp('2018-11-17 14:37:37.796000'), 14, 17, 46, 11, 2018, 5]\n",
      "[Timestamp('2018-11-17 14:40:09.796000'), 14, 17, 46, 11, 2018, 5]\n",
      "[Timestamp('2018-11-17 14:45:05.796000'), 14, 17, 46, 11, 2018, 5]\n",
      "[Timestamp('2018-11-17 14:48:49.796000'), 14, 17, 46, 11, 2018, 5]\n",
      "[Timestamp('2018-11-17 14:52:13.796000'), 14, 17, 46, 11, 2018, 5]\n",
      "[Timestamp('2018-11-17 14:55:55.796000'), 14, 17, 46, 11, 2018, 5]\n",
      "[Timestamp('2018-11-17 14:56:51.796000'), 14, 17, 46, 11, 2018, 5]\n",
      "[Timestamp('2018-11-17 14:59:21.796000'), 14, 17, 46, 11, 2018, 5]\n",
      "[Timestamp('2018-11-17 14:59:25.796000'), 14, 17, 46, 11, 2018, 5]\n",
      "[Timestamp('2018-11-17 15:00:44.796000'), 15, 17, 46, 11, 2018, 5]\n",
      "[Timestamp('2018-11-17 15:02:05.796000'), 15, 17, 46, 11, 2018, 5]\n",
      "[Timestamp('2018-11-17 15:03:14.796000'), 15, 17, 46, 11, 2018, 5]\n",
      "[Timestamp('2018-11-17 15:05:17.796000'), 15, 17, 46, 11, 2018, 5]\n",
      "[Timestamp('2018-11-17 15:06:17.796000'), 15, 17, 46, 11, 2018, 5]\n",
      "[Timestamp('2018-11-17 15:10:54.796000'), 15, 17, 46, 11, 2018, 5]\n",
      "[Timestamp('2018-11-17 15:14:47.796000'), 15, 17, 46, 11, 2018, 5]\n",
      "[Timestamp('2018-11-17 15:18:30.796000'), 15, 17, 46, 11, 2018, 5]\n",
      "[Timestamp('2018-11-17 15:22:34.796000'), 15, 17, 46, 11, 2018, 5]\n",
      "[Timestamp('2018-11-17 15:25:23.796000'), 15, 17, 46, 11, 2018, 5]\n",
      "[Timestamp('2018-11-17 15:28:12.796000'), 15, 17, 46, 11, 2018, 5]\n",
      "[Timestamp('2018-11-17 15:31:43.796000'), 15, 17, 46, 11, 2018, 5]\n",
      "[Timestamp('2018-11-17 15:34:53.796000'), 15, 17, 46, 11, 2018, 5]\n",
      "[Timestamp('2018-11-17 15:37:12.796000'), 15, 17, 46, 11, 2018, 5]\n",
      "[Timestamp('2018-11-17 15:41:21.796000'), 15, 17, 46, 11, 2018, 5]\n",
      "[Timestamp('2018-11-17 15:48:32.796000'), 15, 17, 46, 11, 2018, 5]\n",
      "[Timestamp('2018-11-17 15:51:53.796000'), 15, 17, 46, 11, 2018, 5]\n",
      "[Timestamp('2018-11-17 15:54:10.796000'), 15, 17, 46, 11, 2018, 5]\n",
      "[Timestamp('2018-11-17 15:55:06.796000'), 15, 17, 46, 11, 2018, 5]\n",
      "[Timestamp('2018-11-17 15:57:06.796000'), 15, 17, 46, 11, 2018, 5]\n",
      "[Timestamp('2018-11-17 15:57:12.796000'), 15, 17, 46, 11, 2018, 5]\n",
      "[Timestamp('2018-11-17 16:01:10.796000'), 16, 17, 46, 11, 2018, 5]\n",
      "[Timestamp('2018-11-17 16:02:11.796000'), 16, 17, 46, 11, 2018, 5]\n",
      "[Timestamp('2018-11-17 16:05:39.796000'), 16, 17, 46, 11, 2018, 5]\n",
      "[Timestamp('2018-11-17 16:07:03.796000'), 16, 17, 46, 11, 2018, 5]\n",
      "[Timestamp('2018-11-17 16:08:46.796000'), 16, 17, 46, 11, 2018, 5]\n",
      "[Timestamp('2018-11-17 16:12:11.796000'), 16, 17, 46, 11, 2018, 5]\n",
      "[Timestamp('2018-11-17 16:14:55.796000'), 16, 17, 46, 11, 2018, 5]\n",
      "[Timestamp('2018-11-17 16:16:04.796000'), 16, 17, 46, 11, 2018, 5]\n",
      "[Timestamp('2018-11-17 16:24:42.796000'), 16, 17, 46, 11, 2018, 5]\n",
      "[Timestamp('2018-11-17 16:33:17.796000'), 16, 17, 46, 11, 2018, 5]\n",
      "[Timestamp('2018-11-17 16:35:46.796000'), 16, 17, 46, 11, 2018, 5]\n",
      "[Timestamp('2018-11-17 16:39:10.796000'), 16, 17, 46, 11, 2018, 5]\n",
      "[Timestamp('2018-11-17 16:42:29.796000'), 16, 17, 46, 11, 2018, 5]\n",
      "[Timestamp('2018-11-17 16:46:58.796000'), 16, 17, 46, 11, 2018, 5]\n",
      "[Timestamp('2018-11-17 16:49:33.796000'), 16, 17, 46, 11, 2018, 5]\n",
      "[Timestamp('2018-11-17 16:56:24.796000'), 16, 17, 46, 11, 2018, 5]\n",
      "[Timestamp('2018-11-17 16:58:56.796000'), 16, 17, 46, 11, 2018, 5]\n",
      "[Timestamp('2018-11-17 17:31:36.796000'), 17, 17, 46, 11, 2018, 5]\n",
      "[Timestamp('2018-11-17 17:36:36.796000'), 17, 17, 46, 11, 2018, 5]\n",
      "[Timestamp('2018-11-17 17:38:54.796000'), 17, 17, 46, 11, 2018, 5]\n",
      "[Timestamp('2018-11-17 17:42:29.796000'), 17, 17, 46, 11, 2018, 5]\n",
      "[Timestamp('2018-11-17 21:32:37.796000'), 21, 17, 46, 11, 2018, 5]\n",
      "[Timestamp('2018-11-17 22:44:56.796000'), 22, 17, 46, 11, 2018, 5]\n",
      "[Timestamp('2018-11-17 22:48:44.796000'), 22, 17, 46, 11, 2018, 5]\n",
      "[Timestamp('2018-11-17 22:52:47.796000'), 22, 17, 46, 11, 2018, 5]\n",
      "[Timestamp('2018-11-17 22:56:43.796000'), 22, 17, 46, 11, 2018, 5]\n",
      "[Timestamp('2018-11-17 23:00:49.796000'), 23, 17, 46, 11, 2018, 5]\n",
      "[Timestamp('2018-11-17 23:04:29.796000'), 23, 17, 46, 11, 2018, 5]\n",
      "[Timestamp('2018-11-17 23:08:35.796000'), 23, 17, 46, 11, 2018, 5]\n",
      "[Timestamp('2018-11-17 23:13:41.796000'), 23, 17, 46, 11, 2018, 5]\n",
      "[Timestamp('2018-11-17 23:18:21.796000'), 23, 17, 46, 11, 2018, 5]\n",
      "[Timestamp('2018-11-17 23:23:02.796000'), 23, 17, 46, 11, 2018, 5]\n",
      "[Timestamp('2018-11-17 23:25:48.796000'), 23, 17, 46, 11, 2018, 5]\n",
      "[Timestamp('2018-11-17 23:29:16.796000'), 23, 17, 46, 11, 2018, 5]\n",
      "[Timestamp('2018-11-17 23:32:47.796000'), 23, 17, 46, 11, 2018, 5]\n",
      "[Timestamp('2018-11-17 23:34:11.796000'), 23, 17, 46, 11, 2018, 5]\n",
      "[Timestamp('2018-11-17 23:36:31.796000'), 23, 17, 46, 11, 2018, 5]\n",
      "[Timestamp('2018-11-17 23:37:05.796000'), 23, 17, 46, 11, 2018, 5]\n",
      "[Timestamp('2018-11-17 23:39:51.796000'), 23, 17, 46, 11, 2018, 5]\n",
      "[Timestamp('2018-11-17 23:40:49.796000'), 23, 17, 46, 11, 2018, 5]\n",
      "[Timestamp('2018-11-17 23:49:45.796000'), 23, 17, 46, 11, 2018, 5]\n",
      "[Timestamp('2018-11-17 23:52:48.796000'), 23, 17, 46, 11, 2018, 5]\n",
      "[Timestamp('2018-11-17 23:54:25.796000'), 23, 17, 46, 11, 2018, 5]\n",
      "[Timestamp('2018-11-17 23:55:54.796000'), 23, 17, 46, 11, 2018, 5]\n",
      "[Timestamp('2018-11-17 23:57:20.796000'), 23, 17, 46, 11, 2018, 5]\n"
     ]
    }
   ],
   "source": [
    "for i, row in time_df.iterrows():\n",
    "    cur.execute(time_table_insert, list(row))\n",
    "    conn.commit()\n",
    "    print(list(row))\n",
    "\n"
   ]
  },
  {
   "cell_type": "markdown",
   "metadata": {},
   "source": [
    "Run `test.ipynb` to see if you've successfully added records to this table."
   ]
  },
  {
   "cell_type": "markdown",
   "metadata": {},
   "source": [
    "## #4: `users` Table\n",
    "#### Extract Data for Users Table\n",
    "- Select columns for user ID, first name, last name, gender and level and set to `user_df`"
   ]
  },
  {
   "cell_type": "code",
   "execution_count": 21,
   "metadata": {},
   "outputs": [
    {
     "data": {
      "text/html": [
       "<div>\n",
       "<style scoped>\n",
       "    .dataframe tbody tr th:only-of-type {\n",
       "        vertical-align: middle;\n",
       "    }\n",
       "\n",
       "    .dataframe tbody tr th {\n",
       "        vertical-align: top;\n",
       "    }\n",
       "\n",
       "    .dataframe thead th {\n",
       "        text-align: right;\n",
       "    }\n",
       "</style>\n",
       "<table border=\"1\" class=\"dataframe\">\n",
       "  <thead>\n",
       "    <tr style=\"text-align: right;\">\n",
       "      <th></th>\n",
       "      <th>userId</th>\n",
       "      <th>firstName</th>\n",
       "      <th>lastName</th>\n",
       "      <th>gender</th>\n",
       "      <th>level</th>\n",
       "    </tr>\n",
       "  </thead>\n",
       "  <tbody>\n",
       "    <tr>\n",
       "      <th>0</th>\n",
       "      <td>49</td>\n",
       "      <td>Chloe</td>\n",
       "      <td>Cuevas</td>\n",
       "      <td>F</td>\n",
       "      <td>paid</td>\n",
       "    </tr>\n",
       "    <tr>\n",
       "      <th>1</th>\n",
       "      <td>49</td>\n",
       "      <td>Chloe</td>\n",
       "      <td>Cuevas</td>\n",
       "      <td>F</td>\n",
       "      <td>paid</td>\n",
       "    </tr>\n",
       "    <tr>\n",
       "      <th>2</th>\n",
       "      <td>49</td>\n",
       "      <td>Chloe</td>\n",
       "      <td>Cuevas</td>\n",
       "      <td>F</td>\n",
       "      <td>paid</td>\n",
       "    </tr>\n",
       "  </tbody>\n",
       "</table>\n",
       "</div>"
      ],
      "text/plain": [
       "  userId firstName lastName gender level\n",
       "0     49     Chloe   Cuevas      F  paid\n",
       "1     49     Chloe   Cuevas      F  paid\n",
       "2     49     Chloe   Cuevas      F  paid"
      ]
     },
     "execution_count": 21,
     "metadata": {},
     "output_type": "execute_result"
    }
   ],
   "source": [
    "df = get_dataframe_of_first_data(log_files)\n",
    "user_df = df[[\"userId\", \"firstName\", \"lastName\", \"gender\", \"level\"]]\n",
    "user_df = user_df[user_df.userId != '']\n",
    "user_df.head(3)"
   ]
  },
  {
   "cell_type": "markdown",
   "metadata": {},
   "source": [
    "#### Insert Records into Users Table\n",
    "Implement the `user_table_insert` query in `sql_queries.py` and run the cell below to insert records for the users in this log file into the `users` table. Remember to run `create_tables.py` before running the cell below to ensure you've created/resetted the `users` table in the sparkify database."
   ]
  },
  {
   "cell_type": "code",
   "execution_count": 22,
   "metadata": {},
   "outputs": [],
   "source": [
    "for i, row in user_df.iterrows():\n",
    "    cur.execute(user_table_insert, row)\n",
    "    conn.commit()"
   ]
  },
  {
   "cell_type": "code",
   "execution_count": 23,
   "metadata": {},
   "outputs": [
    {
     "name": "stdout",
     "output_type": "stream",
     "text": [
      "2018-11-17 00:02:24.796000 49\n",
      "2018-11-17 00:06:40.796000 49\n",
      "2018-11-17 00:10:51.796000 49\n",
      "2018-11-17 00:14:35.796000 49\n",
      "2018-11-17 00:17:39.796000 49\n",
      "2018-11-17 00:20:55.796000 49\n",
      "2018-11-17 00:27:01.796000 49\n",
      "2018-11-17 00:28:07.796000 88\n",
      "2018-11-17 00:31:21.796000 49\n",
      "2018-11-17 00:37:14.796000 49\n",
      "2018-11-17 00:43:50.796000 49\n",
      "2018-11-17 00:54:52.796000 49\n",
      "2018-11-17 00:58:34.796000 49\n",
      "2018-11-17 01:05:31.796000 49\n",
      "2018-11-17 01:08:49.796000 49\n",
      "2018-11-17 01:12:35.796000 49\n",
      "2018-11-17 01:18:20.796000 49\n",
      "2018-11-17 01:23:53.796000 49\n",
      "2018-11-17 01:26:40.796000 49\n",
      "2018-11-17 01:29:37.796000 49\n",
      "2018-11-17 01:34:23.796000 49\n",
      "2018-11-17 01:38:18.796000 49\n",
      "2018-11-17 01:42:22.796000 49\n",
      "2018-11-17 02:20:52.796000 10\n",
      "2018-11-17 04:31:38.796000 54\n",
      "2018-11-17 04:38:41.796000 54\n",
      "2018-11-17 04:42:08.796000 54\n",
      "2018-11-17 04:47:15.796000 54\n",
      "2018-11-17 04:52:02.796000 54\n",
      "2018-11-17 04:53:03.796000 54\n",
      "2018-11-17 04:58:07.796000 54\n",
      "2018-11-17 05:01:41.796000 54\n",
      "2018-11-17 05:02:37.796000 33\n",
      "2018-11-17 05:05:16.796000 54\n",
      "2018-11-17 06:31:48.796000 37\n",
      "2018-11-17 06:35:00.796000 37\n",
      "2018-11-17 10:16:35.796000 2\n",
      "2018-11-17 10:21:22.796000 2\n",
      "2018-11-17 10:24:25.796000 2\n",
      "2018-11-17 10:28:10.796000 2\n",
      "2018-11-17 12:52:31.796000 26\n",
      "2018-11-17 13:33:59.796000 86\n",
      "2018-11-17 13:38:10.796000 73\n",
      "2018-11-17 13:42:17.796000 73\n",
      "2018-11-17 13:45:43.796000 73\n",
      "2018-11-17 13:53:14.796000 73\n",
      "2018-11-17 13:58:14.796000 73\n",
      "2018-11-17 14:09:54.796000 73\n",
      "2018-11-17 14:13:36.796000 73\n",
      "2018-11-17 14:17:50.796000 73\n",
      "2018-11-17 14:21:59.796000 73\n",
      "2018-11-17 14:27:00.796000 73\n",
      "2018-11-17 14:30:45.796000 73\n",
      "2018-11-17 14:33:23.796000 73\n",
      "2018-11-17 14:37:37.796000 73\n",
      "2018-11-17 14:40:09.796000 73\n",
      "2018-11-17 14:40:10.796000 73\n",
      "2018-11-17 14:43:03.796000 \n",
      "2018-11-17 14:43:04.796000 \n",
      "2018-11-17 14:43:35.796000 73\n",
      "2018-11-17 14:45:05.796000 73\n",
      "2018-11-17 14:48:49.796000 73\n",
      "2018-11-17 14:52:13.796000 73\n",
      "2018-11-17 14:55:55.796000 73\n",
      "2018-11-17 14:56:51.796000 32\n",
      "2018-11-17 14:59:21.796000 88\n",
      "2018-11-17 14:59:25.796000 73\n",
      "2018-11-17 15:00:44.796000 32\n",
      "2018-11-17 15:02:05.796000 73\n",
      "2018-11-17 15:03:14.796000 88\n",
      "2018-11-17 15:05:17.796000 32\n",
      "2018-11-17 15:06:17.796000 73\n",
      "2018-11-17 15:10:54.796000 73\n",
      "2018-11-17 15:14:47.796000 73\n",
      "2018-11-17 15:18:30.796000 73\n",
      "2018-11-17 15:22:34.796000 73\n",
      "2018-11-17 15:25:23.796000 73\n",
      "2018-11-17 15:28:12.796000 73\n",
      "2018-11-17 15:31:43.796000 73\n",
      "2018-11-17 15:34:53.796000 73\n",
      "2018-11-17 15:37:12.796000 73\n",
      "2018-11-17 15:41:21.796000 73\n",
      "2018-11-17 15:48:32.796000 73\n",
      "2018-11-17 15:51:53.796000 73\n",
      "2018-11-17 15:53:45.796000 \n",
      "2018-11-17 15:53:46.796000 \n",
      "2018-11-17 15:53:59.796000 30\n",
      "2018-11-17 15:54:10.796000 30\n",
      "2018-11-17 15:55:06.796000 73\n",
      "2018-11-17 15:57:06.796000 73\n",
      "2018-11-17 15:57:12.796000 30\n",
      "2018-11-17 16:01:10.796000 30\n",
      "2018-11-17 16:02:11.796000 73\n",
      "2018-11-17 16:04:01.796000 61\n",
      "2018-11-17 16:05:39.796000 30\n",
      "2018-11-17 16:07:03.796000 73\n",
      "2018-11-17 16:08:46.796000 30\n",
      "2018-11-17 16:12:11.796000 30\n",
      "2018-11-17 16:14:55.796000 73\n",
      "2018-11-17 16:16:04.796000 30\n",
      "2018-11-17 16:16:08.796000 30\n",
      "2018-11-17 16:16:09.796000 30\n",
      "2018-11-17 16:24:42.796000 73\n",
      "2018-11-17 16:33:17.796000 73\n",
      "2018-11-17 16:35:46.796000 73\n",
      "2018-11-17 16:39:10.796000 73\n",
      "2018-11-17 16:42:29.796000 73\n",
      "2018-11-17 16:46:58.796000 73\n",
      "2018-11-17 16:49:33.796000 73\n",
      "2018-11-17 16:56:24.796000 73\n",
      "2018-11-17 16:58:56.796000 73\n",
      "2018-11-17 17:30:46.796000 83\n",
      "2018-11-17 17:31:36.796000 83\n",
      "2018-11-17 17:36:36.796000 83\n",
      "2018-11-17 17:38:54.796000 83\n",
      "2018-11-17 17:42:29.796000 83\n",
      "2018-11-17 21:32:37.796000 50\n",
      "2018-11-17 21:32:38.796000 50\n",
      "2018-11-17 21:34:23.796000 \n",
      "2018-11-17 21:34:24.796000 \n",
      "2018-11-17 21:34:55.796000 50\n",
      "2018-11-17 22:44:56.796000 70\n",
      "2018-11-17 22:45:01.796000 70\n",
      "2018-11-17 22:48:44.796000 70\n",
      "2018-11-17 22:52:47.796000 70\n",
      "2018-11-17 22:56:43.796000 70\n",
      "2018-11-17 23:00:49.796000 70\n",
      "2018-11-17 23:04:29.796000 70\n",
      "2018-11-17 23:08:35.796000 70\n",
      "2018-11-17 23:13:41.796000 70\n",
      "2018-11-17 23:18:21.796000 70\n",
      "2018-11-17 23:23:02.796000 70\n",
      "2018-11-17 23:25:48.796000 70\n",
      "2018-11-17 23:29:16.796000 70\n",
      "2018-11-17 23:32:47.796000 70\n",
      "2018-11-17 23:34:11.796000 49\n",
      "2018-11-17 23:36:31.796000 70\n",
      "2018-11-17 23:37:05.796000 49\n",
      "2018-11-17 23:39:51.796000 49\n",
      "2018-11-17 23:40:49.796000 70\n",
      "2018-11-17 23:46:15.796000 49\n",
      "2018-11-17 23:49:45.796000 70\n",
      "2018-11-17 23:52:48.796000 49\n",
      "2018-11-17 23:54:25.796000 70\n",
      "2018-11-17 23:55:54.796000 49\n",
      "2018-11-17 23:57:20.796000 70\n"
     ]
    }
   ],
   "source": [
    "for index, row in df.iterrows():\n",
    "    print(pd.to_datetime(row.ts, unit=\"ms\"), row.userId)\n",
    "    \n",
    "\n"
   ]
  },
  {
   "cell_type": "markdown",
   "metadata": {},
   "source": [
    "Run `test.ipynb` to see if you've successfully added records to this table."
   ]
  },
  {
   "cell_type": "markdown",
   "metadata": {},
   "source": [
    "## #5: `songplays` Table\n",
    "#### Extract Data and Songplays Table\n",
    "This one is a little more complicated since information from the songs table, artists table, and original log file are all needed for the `songplays` table. Since the log file does not specify an ID for either the song or the artist, you'll need to get the song ID and artist ID by querying the songs and artists tables to find matches based on song title, artist name, and song duration time.\n",
    "- Implement the `song_select` query in `sql_queries.py` to find the song ID and artist ID based on the title, artist name, and duration of a song.\n",
    "- Select the timestamp, user ID, level, song ID, artist ID, session ID, location, and user agent and set to `songplay_data`\n",
    "\n",
    "#### Insert Records into Songplays Table\n",
    "- Implement the `songplay_table_insert` query and run the cell below to insert records for the songplay actions in this log file into the `songplays` table. Remember to run `create_tables.py` before running the cell below to ensure you've created/resetted the `songplays` table in the sparkify database."
   ]
  },
  {
   "cell_type": "code",
   "execution_count": 24,
   "metadata": {},
   "outputs": [
    {
     "ename": "ForeignKeyViolation",
     "evalue": "insert or update on table \"songplays\" violates foreign key constraint \"songplays_start_time_fkey\"\nDETAIL:  Key (start_time)=(2018-11-17 10:16:35.796) is not present in table \"time\".\n",
     "output_type": "error",
     "traceback": [
      "\u001b[0;31m---------------------------------------------------------------------------\u001b[0m",
      "\u001b[0;31mForeignKeyViolation\u001b[0m                       Traceback (most recent call last)",
      "\u001b[1;32m/home/nonso/Documents/data_engineering/project-template/etl.ipynb Cell 39'\u001b[0m in \u001b[0;36m<module>\u001b[0;34m\u001b[0m\n\u001b[1;32m     <a href='vscode-notebook-cell:/home/nonso/Documents/data_engineering/project-template/etl.ipynb#ch0000036?line=11'>12</a>\u001b[0m \u001b[39m# insert songplay record\u001b[39;00m\n\u001b[1;32m     <a href='vscode-notebook-cell:/home/nonso/Documents/data_engineering/project-template/etl.ipynb#ch0000036?line=12'>13</a>\u001b[0m songplay_data \u001b[39m=\u001b[39m (pd\u001b[39m.\u001b[39mto_datetime(row\u001b[39m.\u001b[39mts, unit\u001b[39m=\u001b[39m\u001b[39m\"\u001b[39m\u001b[39mms\u001b[39m\u001b[39m\"\u001b[39m), row\u001b[39m.\u001b[39muserId, row\u001b[39m.\u001b[39mlevel, songid, artistid, row\u001b[39m.\u001b[39msessionId, row\u001b[39m.\u001b[39mlocation, row\u001b[39m.\u001b[39muserAgent)\n\u001b[0;32m---> <a href='vscode-notebook-cell:/home/nonso/Documents/data_engineering/project-template/etl.ipynb#ch0000036?line=13'>14</a>\u001b[0m cur\u001b[39m.\u001b[39;49mexecute(songplay_table_insert, songplay_data)\n\u001b[1;32m     <a href='vscode-notebook-cell:/home/nonso/Documents/data_engineering/project-template/etl.ipynb#ch0000036?line=14'>15</a>\u001b[0m conn\u001b[39m.\u001b[39mcommit()\n",
      "\u001b[0;31mForeignKeyViolation\u001b[0m: insert or update on table \"songplays\" violates foreign key constraint \"songplays_start_time_fkey\"\nDETAIL:  Key (start_time)=(2018-11-17 10:16:35.796) is not present in table \"time\".\n"
     ]
    }
   ],
   "source": [
    "for index, row in df.iterrows():\n",
    "\n",
    "    # get songid and artistid from song and artist tables\n",
    "    cur.execute(song_select, (row.song, row.artist, row.length))\n",
    "    results = cur.fetchone()\n",
    "    \n",
    "    if results:\n",
    "        songid, artistid = results\n",
    "    else:\n",
    "        songid, artistid = None, None\n",
    "\n",
    "    # insert songplay record\n",
    "    songplay_data = (pd.to_datetime(row.ts, unit=\"ms\"), row.userId, row.level, songid, artistid, row.sessionId, row.location, row.userAgent)\n",
    "    cur.execute(songplay_table_insert, songplay_data)\n",
    "    conn.commit()"
   ]
  },
  {
   "cell_type": "markdown",
   "metadata": {},
   "source": [
    "Run `test.ipynb` to see if you've successfully added records to this table."
   ]
  },
  {
   "cell_type": "markdown",
   "metadata": {},
   "source": [
    "# Close Connection to Sparkify Database"
   ]
  },
  {
   "cell_type": "code",
   "execution_count": null,
   "metadata": {},
   "outputs": [],
   "source": [
    "conn.close()"
   ]
  },
  {
   "cell_type": "markdown",
   "metadata": {},
   "source": [
    "# Implement `etl.py`\n",
    "Use what you've completed in this notebook to implement `etl.py`."
   ]
  },
  {
   "cell_type": "code",
   "execution_count": null,
   "metadata": {},
   "outputs": [],
   "source": []
  }
 ],
 "metadata": {
  "kernelspec": {
   "display_name": "Python 3",
   "language": "python",
   "name": "python3"
  },
  "language_info": {
   "codemirror_mode": {
    "name": "ipython",
    "version": 3
   },
   "file_extension": ".py",
   "mimetype": "text/x-python",
   "name": "python",
   "nbconvert_exporter": "python",
   "pygments_lexer": "ipython3",
   "version": "3.8.10"
  }
 },
 "nbformat": 4,
 "nbformat_minor": 2
}
